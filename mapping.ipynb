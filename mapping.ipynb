{
 "cells": [
  {
   "cell_type": "code",
   "execution_count": null,
   "metadata": {},
   "outputs": [],
   "source": [
    "import pandas as pd\n",
    "import numpy as np\n",
    "import matplotlib.pyplot as plt\n",
    "# vocab lay tu https://github.com/undertheseanlp/dictionary\n",
    "# https://github.com/duyet/vietnamese-wordlist"
   ]
  },
  {
   "cell_type": "code",
   "execution_count": 2,
   "metadata": {},
   "outputs": [],
   "source": [
    "import torch.nn as nn\n",
    "import torch\n",
    "import torch.optim as optim\n",
    "from torch.utils.data import DataLoader"
   ]
  },
  {
   "cell_type": "code",
   "execution_count": 11,
   "metadata": {},
   "outputs": [],
   "source": [
    "dataset_path='vispamdetection_dataset'\n",
    "\n",
    "data = pd.read_csv(dataset_path+'/reviews.csv/reviews.csv')\n",
    "# vocab = pd.read_json('vocab/vocab.json', orient='index')\n",
    "vocab = pd.read_json('test_vocab.json', orient='index')\n",
    "\n"
   ]
  },
  {
   "cell_type": "code",
   "execution_count": 4,
   "metadata": {},
   "outputs": [
    {
     "data": {
      "text/html": [
       "<div>\n",
       "<style scoped>\n",
       "    .dataframe tbody tr th:only-of-type {\n",
       "        vertical-align: middle;\n",
       "    }\n",
       "\n",
       "    .dataframe tbody tr th {\n",
       "        vertical-align: top;\n",
       "    }\n",
       "\n",
       "    .dataframe thead th {\n",
       "        text-align: right;\n",
       "    }\n",
       "</style>\n",
       "<table border=\"1\" class=\"dataframe\">\n",
       "  <thead>\n",
       "    <tr style=\"text-align: right;\">\n",
       "      <th></th>\n",
       "      <th>link</th>\n",
       "      <th>rating</th>\n",
       "      <th>comment</th>\n",
       "      <th>label</th>\n",
       "      <th>spam_label</th>\n",
       "    </tr>\n",
       "  </thead>\n",
       "  <tbody>\n",
       "    <tr>\n",
       "      <th>0</th>\n",
       "      <td>https://shopee.vn/Ví-nam-đựng-Card-Feasty-da-n...</td>\n",
       "      <td>5</td>\n",
       "      <td>Tuyệt vời cho các e bé nghe đáng kể vs anh đi ...</td>\n",
       "      <td>1</td>\n",
       "      <td>3</td>\n",
       "    </tr>\n",
       "    <tr>\n",
       "      <th>1</th>\n",
       "      <td>https://shopee.vn/Ví-nam-đựng-Card-Feasty-da-n...</td>\n",
       "      <td>5</td>\n",
       "      <td>Chiến dịch tiêm vaccine Covid-19 toàn dân bắt ...</td>\n",
       "      <td>1</td>\n",
       "      <td>3</td>\n",
       "    </tr>\n",
       "    <tr>\n",
       "      <th>2</th>\n",
       "      <td>https://shopee.vn/Ví-nam-đựng-Card-Feasty-da-n...</td>\n",
       "      <td>5</td>\n",
       "      <td>Nsnwnwnxnwkkxmmxmsmwmsmsxnndnwnxnsnwnznn ncn1m...</td>\n",
       "      <td>1</td>\n",
       "      <td>3</td>\n",
       "    </tr>\n",
       "    <tr>\n",
       "      <th>3</th>\n",
       "      <td>https://shopee.vn/Ví-nam-đựng-Card-Feasty-da-n...</td>\n",
       "      <td>2</td>\n",
       "      <td>Chất lượng sản phẩm ko như quảng cáo, kich thu...</td>\n",
       "      <td>0</td>\n",
       "      <td>0</td>\n",
       "    </tr>\n",
       "    <tr>\n",
       "      <th>4</th>\n",
       "      <td>https://shopee.vn/Ví-nam-đựng-Card-Feasty-da-n...</td>\n",
       "      <td>5</td>\n",
       "      <td>Giao hàng nhanh. Shop đóng gói cẩn thận, thế n...</td>\n",
       "      <td>0</td>\n",
       "      <td>0</td>\n",
       "    </tr>\n",
       "  </tbody>\n",
       "</table>\n",
       "</div>"
      ],
      "text/plain": [
       "                                                link  rating  \\\n",
       "0  https://shopee.vn/Ví-nam-đựng-Card-Feasty-da-n...       5   \n",
       "1  https://shopee.vn/Ví-nam-đựng-Card-Feasty-da-n...       5   \n",
       "2  https://shopee.vn/Ví-nam-đựng-Card-Feasty-da-n...       5   \n",
       "3  https://shopee.vn/Ví-nam-đựng-Card-Feasty-da-n...       2   \n",
       "4  https://shopee.vn/Ví-nam-đựng-Card-Feasty-da-n...       5   \n",
       "\n",
       "                                             comment  label  spam_label  \n",
       "0  Tuyệt vời cho các e bé nghe đáng kể vs anh đi ...      1           3  \n",
       "1  Chiến dịch tiêm vaccine Covid-19 toàn dân bắt ...      1           3  \n",
       "2  Nsnwnwnxnwkkxmmxmsmwmsmsxnndnwnxnsnwnznn ncn1m...      1           3  \n",
       "3  Chất lượng sản phẩm ko như quảng cáo, kich thu...      0           0  \n",
       "4  Giao hàng nhanh. Shop đóng gói cẩn thận, thế n...      0           0  "
      ]
     },
     "execution_count": 4,
     "metadata": {},
     "output_type": "execute_result"
    }
   ],
   "source": [
    "data.head()"
   ]
  },
  {
   "cell_type": "code",
   "execution_count": 12,
   "metadata": {},
   "outputs": [
    {
     "data": {
      "text/html": [
       "<div>\n",
       "<style scoped>\n",
       "    .dataframe tbody tr th:only-of-type {\n",
       "        vertical-align: middle;\n",
       "    }\n",
       "\n",
       "    .dataframe tbody tr th {\n",
       "        vertical-align: top;\n",
       "    }\n",
       "\n",
       "    .dataframe thead th {\n",
       "        text-align: right;\n",
       "    }\n",
       "</style>\n",
       "<table border=\"1\" class=\"dataframe\">\n",
       "  <thead>\n",
       "    <tr style=\"text-align: right;\">\n",
       "      <th></th>\n",
       "      <th>0</th>\n",
       "    </tr>\n",
       "  </thead>\n",
       "  <tbody>\n",
       "    <tr>\n",
       "      <th>A</th>\n",
       "      <td>5</td>\n",
       "    </tr>\n",
       "    <tr>\n",
       "      <th>ABC</th>\n",
       "      <td>6</td>\n",
       "    </tr>\n",
       "    <tr>\n",
       "      <th>ADN</th>\n",
       "      <td>7</td>\n",
       "    </tr>\n",
       "    <tr>\n",
       "      <th>AIDS</th>\n",
       "      <td>8</td>\n",
       "    </tr>\n",
       "    <tr>\n",
       "      <th>AK</th>\n",
       "      <td>9</td>\n",
       "    </tr>\n",
       "  </tbody>\n",
       "</table>\n",
       "</div>"
      ],
      "text/plain": [
       "      0\n",
       "A     5\n",
       "ABC   6\n",
       "ADN   7\n",
       "AIDS  8\n",
       "AK    9"
      ]
     },
     "execution_count": 12,
     "metadata": {},
     "output_type": "execute_result"
    }
   ],
   "source": [
    "vocab.head()"
   ]
  },
  {
   "cell_type": "code",
   "execution_count": 22,
   "metadata": {},
   "outputs": [],
   "source": [
    "test_dataset = data\n",
    "vocab_dict = vocab.to_dict()[0]"
   ]
  },
  {
   "cell_type": "code",
   "execution_count": 15,
   "metadata": {},
   "outputs": [
    {
     "name": "stdout",
     "output_type": "stream",
     "text": [
      "Tokens: ['Tuyệt', 'vời', 'cho', 'các', 'e', 'bé', 'nghe', 'đáng', 'kể', 'vs', 'anh', 'đi', 'ăn', 'tối', 'và', 'nghỉ', 'đêm', 'trên', 'máy', 'bay', 'à', 'em', 'muốn', 'nhờ', 'các', 'bạn', 'trẻ', 'mà', 'không', 'cần', 'thiết', 'để', 'tiến', 'tới', 'hôn', 'gái', 'đúng', 'là', 'không', 'thể', 'thiếu', 'của', 'bao', 'giờ', 'có', 'truyện', 'tranh', 'hài', 'hoà', 'hợp', 'ước', 'hẹn']\n"
     ]
    }
   ],
   "source": [
    "from nltk.tokenize import RegexpTokenizer\n",
    "tokenizer = RegexpTokenizer(r'\\w+')\n",
    "\n",
    "tokens = tokenizer.tokenize(test_dataset['comment'][0])\n",
    "print(\"Tokens:\", tokens)"
   ]
  },
  {
   "cell_type": "code",
   "execution_count": 29,
   "metadata": {},
   "outputs": [
    {
     "name": "stdout",
     "output_type": "stream",
     "text": [
      "128\n"
     ]
    }
   ],
   "source": [
    "def encode_sentence(s, vocab):\n",
    "    return [vocab.get(i, 0) for i in s.lower().split()]\n",
    "\n",
    "encoded = []\n",
    "i = 0\n",
    "for comment in test_dataset['comment']:\n",
    "    encoded.append(encode_sentence(comment, vocab_dict))\n",
    "    i +=1\n",
    "    if i ==128:\n",
    "        break\n",
    "print(len(encoded))"
   ]
  },
  {
   "cell_type": "code",
   "execution_count": 30,
   "metadata": {},
   "outputs": [
    {
     "name": "stdout",
     "output_type": "stream",
     "text": [
      "Padded Sentences:\n",
      "tensor([[ 8719,  9350,  2292,  ...,     0,     0,     0],\n",
      "        [ 2277,  3264,  8348,  ...,     0,     0,     0],\n",
      "        [    0,     0,     0,  ...,     0,     0,     0],\n",
      "        ...,\n",
      "        [10117,  5365,  4215,  ...,     0,     0,     0],\n",
      "        [    0,     0,     0,  ...,     0,     0,     0],\n",
      "        [    0,     0,  6221,  ...,     0,     0,     0]])\n",
      "torch.Size([128, 81])\n"
     ]
    }
   ],
   "source": [
    "import torch\n",
    "from torch.nn.utils.rnn import pad_sequence\n",
    "\n",
    "# Example of indexed sentences\n",
    "\n",
    "# Convert indexed sentences to tensors\n",
    "sentence_tensors = [torch.tensor(sentence, dtype=torch.long) for sentence in encoded]\n",
    "\n",
    "# Pad the sentences to the same length (use padding value 0)\n",
    "padded_sentences = pad_sequence(sentence_tensors, batch_first=True, padding_value=0)\n",
    "\n",
    "# Print the padded sentences\n",
    "print(\"Padded Sentences:\")\n",
    "print(padded_sentences)\n",
    "print(padded_sentences.size())\n"
   ]
  },
  {
   "cell_type": "code",
   "execution_count": 32,
   "metadata": {},
   "outputs": [
    {
     "name": "stdout",
     "output_type": "stream",
     "text": [
      "Shape of Embedded Tokens: torch.Size([128, 81, 128])\n"
     ]
    }
   ],
   "source": [
    "import torch\n",
    "import torch.nn as nn\n",
    "\n",
    "vocab_size = 19870\n",
    "embedding_dim = 128 \n",
    "\n",
    "embedding_layer = nn.Embedding(num_embeddings=vocab_size, embedding_dim=embedding_dim)\n",
    "\n",
    "\n",
    "# Forward pass: Pass the padded tokens through the embedding layer\n",
    "embedded_tokens = embedding_layer(padded_sentences)\n",
    "\n",
    "# Print the output embeddings\n",
    "# print(\"Embedded Tokens:\")\n",
    "# print(embedded_tokens)\n",
    "print(\"Shape of Embedded Tokens:\", embedded_tokens.shape)"
   ]
  },
  {
   "cell_type": "code",
   "execution_count": 35,
   "metadata": {},
   "outputs": [
    {
     "name": "stdout",
     "output_type": "stream",
     "text": [
      "LSTM Output Shape: torch.Size([128, 81, 128])\n"
     ]
    }
   ],
   "source": [
    "import torch.nn as nn\n",
    "\n",
    "lstm = nn.LSTM(input_size=embedding_dim, hidden_size=128, num_layers=1, batch_first=True)\n",
    "\n",
    "lstm_output, (hidden_state, cell_state) = lstm(embedded_tokens)\n",
    "\n",
    "print(\"LSTM Output Shape:\", lstm_output.shape)  # (batch_size, seq_length, hidden_size)\n"
   ]
  },
  {
   "cell_type": "code",
   "execution_count": 11,
   "metadata": {},
   "outputs": [],
   "source": [
    "class RNNModel(nn.Module):\n",
    "    def __init__(self, vocab_size, embed_size, hidden_size, output_size):\n",
    "        super(RNNModel, self).__init__()\n",
    "        self.embedding = nn.Embedding(vocab_size, embed_size)\n",
    "        self.rnn = nn.RNN(embed_size, hidden_size, batch_first=True)\n",
    "        self.fc = nn.Linear(hidden_size, output_size)\n",
    "        \n",
    "    def forward(self, x):\n",
    "        x = self.embedding(x)\n",
    "        _, hidden = self.rnn(x)\n",
    "        output = self.fc(hidden.squeeze(0))\n",
    "        return torch.sigmoid(output)"
   ]
  },
  {
   "cell_type": "code",
   "execution_count": 12,
   "metadata": {},
   "outputs": [],
   "source": [
    "class LSTMModel(nn.Module):\n",
    "    def __init__(self, vocab_size, embed_size, hidden_size, output_size):\n",
    "        super(LSTMModel, self).__init__()\n",
    "        self.embedding = nn.Embedding(vocab_size, embed_size)\n",
    "        self.lstm = nn.LSTM(embed_size, hidden_size, batch_first=True)\n",
    "        self.fc = nn.Linear(hidden_size, output_size)\n",
    "        \n",
    "    def forward(self, x):\n",
    "        x = self.embedding(x)\n",
    "        _, (hidden, _) = self.lstm(x)\n",
    "        output = self.fc(hidden.squeeze(0))\n",
    "        return torch.sigmoid(output)"
   ]
  },
  {
   "cell_type": "code",
   "execution_count": 13,
   "metadata": {},
   "outputs": [],
   "source": [
    "class GRUModel(nn.Module):\n",
    "    def __init__(self, vocab_size, embed_size, hidden_size, output_size):\n",
    "        super(GRUModel, self).__init__()\n",
    "        self.embedding = nn.Embedding(vocab_size, embed_size)\n",
    "        self.gru = nn.GRU(embed_size, hidden_size, batch_first=True)\n",
    "        self.fc = nn.Linear(hidden_size, output_size)\n",
    "        \n",
    "    def forward(self, x):\n",
    "        x = self.embedding(x)\n",
    "        _, hidden = self.gru(x)\n",
    "        output = self.fc(hidden.squeeze(0))\n",
    "        return torch.sigmoid(output)"
   ]
  },
  {
   "cell_type": "code",
   "execution_count": 14,
   "metadata": {},
   "outputs": [],
   "source": [
    "def train_model(model, train_loader, val_loader, criterion, optimizer, epochs=10, device=\"cpu\"):\n",
    "\n",
    "    model = model.to(device)\n",
    "    for epoch in range(epochs):\n",
    "        \n",
    "        model.train()\n",
    "        train_loss = 0\n",
    "        for inputs, labels in train_loader:\n",
    "            inputs, labels = inputs.to(device), labels.to(device)\n",
    "            optimizer.zero_grad()\n",
    "            outputs = model(inputs)\n",
    "            loss = criterion(outputs.squeeze(), labels.float())\n",
    "            loss.backward()\n",
    "            optimizer.step()\n",
    "            train_loss += loss.item()\n",
    "\n",
    "        \n",
    "        model.eval()\n",
    "        val_loss = 0\n",
    "        with torch.no_grad():\n",
    "            for inputs, labels in val_loader:\n",
    "                inputs, labels = inputs.to(device), labels.to(device)\n",
    "                outputs = model(inputs)\n",
    "                loss = criterion(outputs.squeeze(), labels.float())\n",
    "                val_loss += loss.item()\n",
    "\n",
    "        print(f\"Epoch {epoch + 1}/{epochs}, Train Loss: {train_loss / len(train_loader):.4f}, Validation Loss: {val_loss / len(val_loader):.4f}\")"
   ]
  },
  {
   "cell_type": "code",
   "execution_count": 15,
   "metadata": {},
   "outputs": [],
   "source": [
    "vocab_size = len(vocab_dict) + 1  # Vocabulary size (+1 for unknown tokens)\n",
    "embed_dim = 100  # Size of word embeddings\n",
    "hidden_dim = 128  # Number of hidden units\n",
    "output_dim = 1  # For binary classification\n",
    "\n",
    "# Instantiate each model\n",
    "rnn_model = RNNModel(vocab_size, embed_dim, hidden_dim, output_dim)\n",
    "lstm_model = LSTMModel(vocab_size, embed_dim, hidden_dim, output_dim)\n",
    "gru_model = GRUModel(vocab_size, embed_dim, hidden_dim, output_dim)\n"
   ]
  },
  {
   "cell_type": "code",
   "execution_count": 16,
   "metadata": {},
   "outputs": [],
   "source": [
    "# Binary Cross Entropy Loss for binary classification\n",
    "criterion = nn.BCELoss()\n",
    "\n",
    "# Optimizers for each model\n",
    "rnn_optimizer = optim.Adam(rnn_model.parameters(), lr=0.001)\n",
    "lstm_optimizer = optim.Adam(lstm_model.parameters(), lr=0.001)\n",
    "gru_optimizer = optim.Adam(gru_model.parameters(), lr=0.001)\n"
   ]
  }
 ],
 "metadata": {
  "kernelspec": {
   "display_name": "Python 3",
   "language": "python",
   "name": "python3"
  },
  "language_info": {
   "codemirror_mode": {
    "name": "ipython",
    "version": 3
   },
   "file_extension": ".py",
   "mimetype": "text/x-python",
   "name": "python",
   "nbconvert_exporter": "python",
   "pygments_lexer": "ipython3",
   "version": "3.13.0"
  }
 },
 "nbformat": 4,
 "nbformat_minor": 2
}
