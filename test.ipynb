{
 "cells": [
  {
   "cell_type": "code",
   "execution_count": 15,
   "metadata": {},
   "outputs": [
    {
     "name": "stdout",
     "output_type": "stream",
     "text": [
      "Sorted and re-indexed new vocabulary has been saved to new_vocab.json\n"
     ]
    }
   ],
   "source": [
    "import json\n",
    "import re\n",
    "\n",
    "# Load the old vocab.json file\n",
    "with open('test_vocab.json', 'r', encoding='utf-8') as f:\n",
    "    old_vocab = json.load(f)\n",
    "\n",
    "# Initialize an empty dictionary for the new vocabulary\n",
    "new_vocab = {}\n",
    "\n",
    "# Split compound words into single words and ensure uniqueness\n",
    "for compound_word in old_vocab.keys():\n",
    "    words = re.split(r'[;,\\-\\s]+', compound_word)\n",
    "    # words = compound_word.split(' ')\n",
    "    for word in words:\n",
    "        if word not in new_vocab:\n",
    "            new_vocab[word] = None  # Placeholder value\n",
    "\n",
    "# Sort the new vocabulary alphabetically and assign new values starting from 1\n",
    "sorted_new_vocab = {key: idx + 1 for idx, key in enumerate(sorted(new_vocab.keys()))}\n",
    "\n",
    "# Save the sorted vocabulary to a new JSON file\n",
    "with open('test_vocab.json', 'w', encoding='utf-8') as f:\n",
    "    json.dump(sorted_new_vocab, f, ensure_ascii=False, indent=2)\n",
    "\n",
    "print(\"Sorted and re-indexed new vocabulary has been saved to new_vocab.json\")\n"
   ]
  },
  {
   "cell_type": "code",
   "execution_count": 14,
   "metadata": {},
   "outputs": [
    {
     "name": "stdout",
     "output_type": "stream",
     "text": [
      "Cleaned vocabulary has been saved to vocab.json\n"
     ]
    }
   ],
   "source": [
    "import re\n",
    "import json\n",
    "# Read the wordlist.txt file\n",
    "cleaned_words = []\n",
    "with open('wordlists.txt', 'r', encoding='utf-8') as f:\n",
    "    for line in f:\n",
    "        # Remove the content inside brackets along with the brackets\n",
    "        cleaned_line = re.sub(r'\\(.*?\\)', '', line).strip()\n",
    "        cleaned_line = re.sub(r'\\d+', '', cleaned_line)  # Remove digits\n",
    "        cleaned_line = cleaned_line.strip()  # Remove leading/trailing whitespace\n",
    "        # Split the cleaned line into individual words and add them to the list\n",
    "        words = cleaned_line.split()\n",
    "        cleaned_words.extend(words)\n",
    "\n",
    "# Create a new vocab.json with key:value pairs and sequential values starting from 1\n",
    "vocab = {word: idx + 1 for idx, word in enumerate(cleaned_words)}\n",
    "\n",
    "# Save the cleaned vocabulary to a JSON file\n",
    "with open('test_vocab.json', 'w', encoding='utf-8') as f:\n",
    "    json.dump(vocab, f, ensure_ascii=False, indent=2)\n",
    "\n",
    "print(\"Cleaned vocabulary has been saved to vocab.json\")\n"
   ]
  },
  {
   "cell_type": "code",
   "execution_count": null,
   "metadata": {},
   "outputs": [],
   "source": []
  }
 ],
 "metadata": {
  "kernelspec": {
   "display_name": "Python 3",
   "language": "python",
   "name": "python3"
  },
  "language_info": {
   "codemirror_mode": {
    "name": "ipython",
    "version": 3
   },
   "file_extension": ".py",
   "mimetype": "text/x-python",
   "name": "python",
   "nbconvert_exporter": "python",
   "pygments_lexer": "ipython3",
   "version": "3.13.0"
  }
 },
 "nbformat": 4,
 "nbformat_minor": 2
}
